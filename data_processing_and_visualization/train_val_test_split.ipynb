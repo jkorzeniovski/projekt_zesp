{
  "nbformat": 4,
  "nbformat_minor": 0,
  "metadata": {
    "colab": {
      "provenance": []
    },
    "kernelspec": {
      "name": "python3",
      "display_name": "Python 3"
    },
    "language_info": {
      "name": "python"
    }
  },
  "cells": [
    {
      "cell_type": "code",
      "execution_count": 20,
      "metadata": {
        "id": "jYTknvyMFHHf"
      },
      "outputs": [],
      "source": [
        "import zipfile\n",
        "import os\n",
        "from shutil import copyfile\n",
        "from sklearn.model_selection import train_test_split"
      ]
    },
    {
      "cell_type": "markdown",
      "source": [
        "# Load Original Data"
      ],
      "metadata": {
        "id": "Fre7BTBYF4Mm"
      }
    },
    {
      "cell_type": "code",
      "source": [
        "!wget 'https://github.com/jkorzeniovski/projekt_zesp/raw/main/data/skin_diseases_dataset.zip'"
      ],
      "metadata": {
        "colab": {
          "base_uri": "https://localhost:8080/"
        },
        "id": "ZeJ0XZCFFvnR",
        "outputId": "11c19c28-da8f-4549-f68b-60f18a7f2f0a"
      },
      "execution_count": 21,
      "outputs": [
        {
          "output_type": "stream",
          "name": "stdout",
          "text": [
            "--2023-11-28 13:59:33--  https://github.com/jkorzeniovski/projekt_zesp/raw/main/data/skin_diseases_dataset.zip\n",
            "Resolving github.com (github.com)... 140.82.121.4\n",
            "Connecting to github.com (github.com)|140.82.121.4|:443... connected.\n",
            "HTTP request sent, awaiting response... 302 Found\n",
            "Location: https://media.githubusercontent.com/media/jkorzeniovski/projekt_zesp/main/data/skin_diseases_dataset.zip [following]\n",
            "--2023-11-28 13:59:33--  https://media.githubusercontent.com/media/jkorzeniovski/projekt_zesp/main/data/skin_diseases_dataset.zip\n",
            "Resolving media.githubusercontent.com (media.githubusercontent.com)... 185.199.109.133, 185.199.108.133, 185.199.110.133, ...\n",
            "Connecting to media.githubusercontent.com (media.githubusercontent.com)|185.199.109.133|:443... connected.\n",
            "HTTP request sent, awaiting response... 200 OK\n",
            "Length: 336248004 (321M) [application/zip]\n",
            "Saving to: ‘skin_diseases_dataset.zip.1’\n",
            "\n",
            "skin_diseases_datas 100%[===================>] 320.67M   194MB/s    in 1.7s    \n",
            "\n",
            "2023-11-28 14:00:03 (194 MB/s) - ‘skin_diseases_dataset.zip.1’ saved [336248004/336248004]\n",
            "\n"
          ]
        }
      ]
    },
    {
      "cell_type": "code",
      "source": [
        "# Unzip data\n",
        "zip_ref = zipfile.ZipFile('skin_diseases_dataset.zip')\n",
        "zip_ref.extractall()\n",
        "zip_ref.close()"
      ],
      "metadata": {
        "id": "Ce_t3jMDF-b0"
      },
      "execution_count": 22,
      "outputs": []
    },
    {
      "cell_type": "code",
      "source": [
        "test_path = \"/content/Dataset/test\"\n",
        "train_path = \"/content/Dataset/train\"\n",
        "\n",
        "for folder_path in [test_path, train_path]:\n",
        "  print(f\"{folder_path}' : {len(os.listdir(folder_path))}\")"
      ],
      "metadata": {
        "colab": {
          "base_uri": "https://localhost:8080/"
        },
        "id": "nkpR6617GED-",
        "outputId": "d6ed8904-8c64-489e-d3a8-31a2ac488e4f"
      },
      "execution_count": 23,
      "outputs": [
        {
          "output_type": "stream",
          "name": "stdout",
          "text": [
            "/content/Dataset/test' : 20\n",
            "/content/Dataset/train' : 19\n"
          ]
        }
      ]
    },
    {
      "cell_type": "code",
      "source": [
        "extra_class = set([folder for folder in os.listdir(test_path)]) - set([folder for folder in os.listdir(train_path)])\n",
        "extra_class = list(extra_class)[0]\n",
        "extra_class"
      ],
      "metadata": {
        "colab": {
          "base_uri": "https://localhost:8080/",
          "height": 36
        },
        "id": "SiqrtPWFGNY0",
        "outputId": "ff5dea0e-fb56-4faf-8941-29dde68ba319"
      },
      "execution_count": 24,
      "outputs": [
        {
          "output_type": "execute_result",
          "data": {
            "text/plain": [
              "'Bullous Disease Photos'"
            ],
            "application/vnd.google.colaboratory.intrinsic+json": {
              "type": "string"
            }
          },
          "metadata": {},
          "execution_count": 24
        }
      ]
    },
    {
      "cell_type": "code",
      "source": [
        "len([file for file in os.listdir(os.path.join(test_path, extra_class))])"
      ],
      "metadata": {
        "colab": {
          "base_uri": "https://localhost:8080/"
        },
        "id": "qd6OqR2XGPr6",
        "outputId": "caec82b1-428e-4497-88d1-969f8dff4379"
      },
      "execution_count": 25,
      "outputs": [
        {
          "output_type": "execute_result",
          "data": {
            "text/plain": [
              "2"
            ]
          },
          "metadata": {},
          "execution_count": 25
        }
      ]
    },
    {
      "cell_type": "markdown",
      "source": [
        "We see that one class is missing in the training set but present in test set, so we will exclude it since we cannot obtain more data for it."
      ],
      "metadata": {
        "id": "YXVkiBVzGW-n"
      }
    },
    {
      "cell_type": "code",
      "source": [
        "for folder_path in [test_path, train_path]:\n",
        "  total_images = sum([len(files) for _,_,files in os.walk(folder_path)])\n",
        "  print(f\"{folder_path}' : {total_images}\")"
      ],
      "metadata": {
        "colab": {
          "base_uri": "https://localhost:8080/"
        },
        "id": "eheE1R0NGRjQ",
        "outputId": "7f1fdf97-8eb9-4d31-bd1a-cdd619563748"
      },
      "execution_count": 26,
      "outputs": [
        {
          "output_type": "stream",
          "name": "stdout",
          "text": [
            "/content/Dataset/test' : 897\n",
            "/content/Dataset/train' : 2609\n"
          ]
        }
      ]
    },
    {
      "cell_type": "markdown",
      "source": [
        "Our test data is 0.25 of all images we have. That should suffice, so we won't be touching it, but will only split the \"train\" intro training set and validation set."
      ],
      "metadata": {
        "id": "OwoTbu5NGgcP"
      }
    },
    {
      "cell_type": "markdown",
      "source": [
        "# Splitting the Images\n"
      ],
      "metadata": {
        "id": "FTiFofrxG-HW"
      }
    },
    {
      "cell_type": "code",
      "source": [
        "DATASET_DIR = \"/content/Dataset\"\n",
        "TRAIN_DIR = \"/content/data/train\"\n",
        "VAL_DIR = \"/content/data/val\"\n",
        "TEST_DIR = \"/content/data/test\"\n",
        "\n",
        "CLASS_NAMES = sorted(os.listdir(train_path))\n",
        "CLASSES_NUM = len(CLASS_NAMES)\n",
        "SEED = 4"
      ],
      "metadata": {
        "id": "QPmdcBXbGdhy"
      },
      "execution_count": 27,
      "outputs": []
    },
    {
      "cell_type": "code",
      "source": [
        "# Make directories\n",
        "for d in [\"/content/data\", TRAIN_DIR, VAL_DIR, TEST_DIR]:\n",
        "  os.makedirs(d, exist_ok=True)"
      ],
      "metadata": {
        "id": "cOPa6JvIIZU1"
      },
      "execution_count": 28,
      "outputs": []
    },
    {
      "cell_type": "code",
      "source": [
        "# Split train into train and val\n",
        "for class_name in sorted(os.listdir(test_path)):\n",
        "    if class_name == extra_class:\n",
        "        continue\n",
        "    train_class_path = os.path.join(train_path, class_name)\n",
        "    test_class_path = os.path.join(test_path, class_name)\n",
        "    print(train_class_path)\n",
        "\n",
        "    # Images in class folders.\n",
        "    train_image_files = [os.path.join(train_class_path, img) for img in os.listdir(train_class_path) if img.endswith(\".jpg\")]\n",
        "    test_files = [os.path.join(test_class_path, img) for img in os.listdir(test_class_path) if img.endswith(\".jpg\")]\n",
        "\n",
        "    # Split previous train into train and val sets\n",
        "    train_files, val_files = train_test_split(train_image_files, test_size=0.1, random_state=SEED)\n",
        "\n",
        "    # Copy the files to new train/val/test dirs\n",
        "    for files, cur_dir in zip([train_files, val_files, test_files],[TRAIN_DIR, VAL_DIR, TEST_DIR]):\n",
        "        for file in files:\n",
        "            dest = os.path.join(cur_dir, class_name, os.path.basename(file))\n",
        "            os.makedirs(os.path.dirname(dest), exist_ok=True)\n",
        "            copyfile(file,dest)"
      ],
      "metadata": {
        "colab": {
          "base_uri": "https://localhost:8080/"
        },
        "id": "86mt-aKDI5Q-",
        "outputId": "0b3cc775-abe5-400c-8853-fa8ec5940330"
      },
      "execution_count": 29,
      "outputs": [
        {
          "output_type": "stream",
          "name": "stdout",
          "text": [
            "/content/Dataset/train/Acne and Rosacea Photos\n",
            "/content/Dataset/train/Actinic Keratosis Basal Cell Carcinoma and other Malignant Lesions\n",
            "/content/Dataset/train/Atopic Dermatitis Photos\n",
            "/content/Dataset/train/Cellulitis Impetigo and other Bacterial Infections\n",
            "/content/Dataset/train/Eczema Photos\n",
            "/content/Dataset/train/Exanthems and Drug Eruptions\n",
            "/content/Dataset/train/Herpes HPV and other STDs Photos\n",
            "/content/Dataset/train/Light Diseases and Disorders of Pigmentation\n",
            "/content/Dataset/train/Lupus and other Connective Tissue diseases\n",
            "/content/Dataset/train/Melanoma Skin Cancer Nevi and Moles\n",
            "/content/Dataset/train/Poison Ivy Photos and other Contact Dermatitis\n",
            "/content/Dataset/train/Psoriasis pictures Lichen Planus and related diseases\n",
            "/content/Dataset/train/Seborrheic Keratoses and other Benign Tumors\n",
            "/content/Dataset/train/Systemic Disease\n",
            "/content/Dataset/train/Tinea Ringworm Candidiasis and other Fungal Infections\n",
            "/content/Dataset/train/Urticaria Hives\n",
            "/content/Dataset/train/Vascular Tumors\n",
            "/content/Dataset/train/Vasculitis Photos\n",
            "/content/Dataset/train/Warts Molluscum and other Viral Infections\n"
          ]
        }
      ]
    },
    {
      "cell_type": "code",
      "source": [
        "# Images in each of train/val/test folders.\n",
        "for folder_path in [TRAIN_DIR, VAL_DIR, TEST_DIR]:\n",
        "  total_images = sum([len(files) for _,_,files in os.walk(folder_path)])\n",
        "  print(f\"{folder_path}' : {total_images}\")"
      ],
      "metadata": {
        "colab": {
          "base_uri": "https://localhost:8080/"
        },
        "id": "en_9fCHRJB4X",
        "outputId": "c967abbd-003e-4582-bb46-495a3bb31054"
      },
      "execution_count": 30,
      "outputs": [
        {
          "output_type": "stream",
          "name": "stdout",
          "text": [
            "/content/data/train' : 2340\n",
            "/content/data/val' : 269\n",
            "/content/data/test' : 691\n"
          ]
        }
      ]
    },
    {
      "cell_type": "code",
      "source": [
        "# Images in each subfolder of train/val/test\n",
        "for folder_path in [TRAIN_DIR, VAL_DIR, TEST_DIR]:\n",
        "  total_images = [len(files) for _,_,files in os.walk(folder_path)]\n",
        "  print(f\"{folder_path}' : {total_images}\")"
      ],
      "metadata": {
        "colab": {
          "base_uri": "https://localhost:8080/"
        },
        "id": "LthudgThJQQ-",
        "outputId": "06498163-eb70-441c-ccaf-789b27555eda"
      },
      "execution_count": 31,
      "outputs": [
        {
          "output_type": "stream",
          "name": "stdout",
          "text": [
            "/content/data/train' : [0, 72, 90, 756, 58, 55, 223, 13, 31, 55, 18, 269, 81, 109, 72, 90, 21, 2, 289, 36]\n",
            "/content/data/val' : [0, 9, 11, 84, 7, 7, 25, 2, 4, 7, 2, 30, 9, 13, 8, 10, 3, 1, 33, 4]\n",
            "/content/data/test' : [0, 27, 37, 231, 14, 24, 51, 1, 2, 13, 6, 30, 25, 42, 31, 24, 5, 2, 120, 6]\n"
          ]
        }
      ]
    },
    {
      "cell_type": "markdown",
      "source": [
        "# Exporting the Data"
      ],
      "metadata": {
        "id": "XnXaaJ_7e1uv"
      }
    },
    {
      "cell_type": "code",
      "source": [
        "# Export the data to zip\n",
        "def zipdir(path, ziph):\n",
        "    for root, dirs, files in os.walk(path):\n",
        "        for file in files:\n",
        "            # Find the relative path without the top-level \"content\" folder\n",
        "            rel_path = os.path.relpath(os.path.join(root, file), path)\n",
        "            # Add only the contents of the \"data\" folder to the zip file\n",
        "            ziph.write(os.path.join(root, file), os.path.join(\"data\", rel_path))\n",
        "zipf = zipfile.ZipFile('skin_diseases_split.zip', 'w', zipfile.ZIP_DEFLATED)\n",
        "zipdir(\"/content/data\", zipf)\n",
        "zipf.close()"
      ],
      "metadata": {
        "id": "8blA_YfTJVdO"
      },
      "execution_count": 34,
      "outputs": []
    }
  ]
}